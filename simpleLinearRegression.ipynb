{
 "metadata": {
  "kernelspec": {
   "display_name": "Python 3",
   "language": "python",
   "name": "python3"
  },
  "language_info": {
   "codemirror_mode": {
    "name": "ipython",
    "version": 3
   },
   "file_extension": ".py",
   "mimetype": "text/x-python",
   "name": "python",
   "nbconvert_exporter": "python",
   "pygments_lexer": "ipython3",
   "version": "3.6.4"
  },
  "name": "",
  "signature": "sha256:16701e573b99cad0eda46ba05848d4645c3fb2fccd0a9a8cd77fe1bd8901d0b9"
 },
 "nbformat": 3,
 "nbformat_minor": 0,
 "worksheets": [
  {
   "cells": [
    {
     "cell_type": "code",
     "collapsed": false,
     "input": [
      "%matplotlib inline \n",
      "\n",
      "import numpy as np\n",
      "import pandas as pd\n",
      "import scipy.stats as stats\n",
      "import matplotlib.pyplot as plt\n",
      "import sklearn\n",
      "\n",
      "import seaborn as sns\n",
      "sns.set_style(\"whitegrid\")\n",
      "sns.set_context(\"poster\")\n",
      "\n",
      "# special matplotlib argument for improved plots\n",
      "from matplotlib import rcParams\n"
     ],
     "language": "python",
     "metadata": {},
     "outputs": [],
     "prompt_number": 4
    },
    {
     "cell_type": "code",
     "collapsed": false,
     "input": [
      "from sklearn.datasets import load_boston\n",
      "boston = load_boston()\n"
     ],
     "language": "python",
     "metadata": {},
     "outputs": [],
     "prompt_number": 5
    },
    {
     "cell_type": "code",
     "collapsed": false,
     "input": [
      "print(boston.keys())"
     ],
     "language": "python",
     "metadata": {},
     "outputs": [
      {
       "output_type": "stream",
       "stream": "stdout",
       "text": [
        "['data', 'feature_names', 'DESCR', 'target']\n"
       ]
      }
     ],
     "prompt_number": 6
    },
    {
     "cell_type": "code",
     "collapsed": false,
     "input": [
      "print(boston.data.shape)"
     ],
     "language": "python",
     "metadata": {},
     "outputs": [
      {
       "output_type": "stream",
       "stream": "stdout",
       "text": [
        "(506, 13)\n"
       ]
      }
     ],
     "prompt_number": 7
    },
    {
     "cell_type": "code",
     "collapsed": false,
     "input": [
      "print(boston.feature_names)"
     ],
     "language": "python",
     "metadata": {},
     "outputs": [
      {
       "output_type": "stream",
       "stream": "stdout",
       "text": [
        "['CRIM' 'ZN' 'INDUS' 'CHAS' 'NOX' 'RM' 'AGE' 'DIS' 'RAD' 'TAX' 'PTRATIO'\n",
        " 'B' 'LSTAT']\n"
       ]
      }
     ],
     "prompt_number": 9
    },
    {
     "cell_type": "code",
     "collapsed": false,
     "input": [
      "print(boston.DESCR)"
     ],
     "language": "python",
     "metadata": {},
     "outputs": [
      {
       "output_type": "stream",
       "stream": "stdout",
       "text": [
        "Boston House Prices dataset\n",
        "===========================\n",
        "\n",
        "Notes\n",
        "------\n",
        "Data Set Characteristics:  \n",
        "\n",
        "    :Number of Instances: 506 \n",
        "\n",
        "    :Number of Attributes: 13 numeric/categorical predictive\n",
        "    \n",
        "    :Median Value (attribute 14) is usually the target\n",
        "\n",
        "    :Attribute Information (in order):\n",
        "        - CRIM     per capita crime rate by town\n",
        "        - ZN       proportion of residential land zoned for lots over 25,000 sq.ft.\n",
        "        - INDUS    proportion of non-retail business acres per town\n",
        "        - CHAS     Charles River dummy variable (= 1 if tract bounds river; 0 otherwise)\n",
        "        - NOX      nitric oxides concentration (parts per 10 million)\n",
        "        - RM       average number of rooms per dwelling\n",
        "        - AGE      proportion of owner-occupied units built prior to 1940\n",
        "        - DIS      weighted distances to five Boston employment centres\n",
        "        - RAD      index of accessibility to radial highways\n",
        "        - TAX      full-value property-tax rate per $10,000\n",
        "        - PTRATIO  pupil-teacher ratio by town\n",
        "        - B        1000(Bk - 0.63)^2 where Bk is the proportion of blacks by town\n",
        "        - LSTAT    % lower status of the population\n",
        "        - MEDV     Median value of owner-occupied homes in $1000's\n",
        "\n",
        "    :Missing Attribute Values: None\n",
        "\n",
        "    :Creator: Harrison, D. and Rubinfeld, D.L.\n",
        "\n",
        "This is a copy of UCI ML housing dataset.\n",
        "http://archive.ics.uci.edu/ml/datasets/Housing\n",
        "\n",
        "\n",
        "This dataset was taken from the StatLib library which is maintained at Carnegie Mellon University.\n",
        "\n",
        "The Boston house-price data of Harrison, D. and Rubinfeld, D.L. 'Hedonic\n",
        "prices and the demand for clean air', J. Environ. Economics & Management,\n",
        "vol.5, 81-102, 1978.   Used in Belsley, Kuh & Welsch, 'Regression diagnostics\n",
        "...', Wiley, 1980.   N.B. Various transformations are used in the table on\n",
        "pages 244-261 of the latter.\n",
        "\n",
        "The Boston house-price data has been used in many machine learning papers that address regression\n",
        "problems.   \n",
        "     \n",
        "**References**\n",
        "\n",
        "   - Belsley, Kuh & Welsch, 'Regression diagnostics: Identifying Influential Data and Sources of Collinearity', Wiley, 1980. 244-261.\n",
        "   - Quinlan,R. (1993). Combining Instance-Based and Model-Based Learning. In Proceedings on the Tenth International Conference of Machine Learning, 236-243, University of Massachusetts, Amherst. Morgan Kaufmann.\n",
        "   - many more! (see http://archive.ics.uci.edu/ml/datasets/Housing)\n",
        "\n"
       ]
      }
     ],
     "prompt_number": 10
    },
    {
     "cell_type": "code",
     "collapsed": false,
     "input": [
      "bos = pd.DataFrame(boston.data)\n",
      "print(bos.head())\n"
     ],
     "language": "python",
     "metadata": {},
     "outputs": [
      {
       "output_type": "stream",
       "stream": "stdout",
       "text": [
        "        0     1     2    3      4      5     6       7    8      9     10  \\\n",
        "0  0.00632  18.0  2.31  0.0  0.538  6.575  65.2  4.0900  1.0  296.0  15.3   \n",
        "1  0.02731   0.0  7.07  0.0  0.469  6.421  78.9  4.9671  2.0  242.0  17.8   \n",
        "2  0.02729   0.0  7.07  0.0  0.469  7.185  61.1  4.9671  2.0  242.0  17.8   \n",
        "3  0.03237   0.0  2.18  0.0  0.458  6.998  45.8  6.0622  3.0  222.0  18.7   \n",
        "4  0.06905   0.0  2.18  0.0  0.458  7.147  54.2  6.0622  3.0  222.0  18.7   \n",
        "\n",
        "       11    12  \n",
        "0  396.90  4.98  \n",
        "1  396.90  9.14  \n",
        "2  392.83  4.03  \n",
        "3  394.63  2.94  \n",
        "4  396.90  5.33  \n"
       ]
      }
     ],
     "prompt_number": 8
    },
    {
     "cell_type": "code",
     "collapsed": false,
     "input": [
      "bos.columns = boston.feature_names\n",
      "print(bos.head())"
     ],
     "language": "python",
     "metadata": {},
     "outputs": [
      {
       "output_type": "stream",
       "stream": "stdout",
       "text": [
        "      CRIM    ZN  INDUS  CHAS    NOX     RM   AGE     DIS  RAD    TAX  \\\n",
        "0  0.00632  18.0   2.31   0.0  0.538  6.575  65.2  4.0900  1.0  296.0   \n",
        "1  0.02731   0.0   7.07   0.0  0.469  6.421  78.9  4.9671  2.0  242.0   \n",
        "2  0.02729   0.0   7.07   0.0  0.469  7.185  61.1  4.9671  2.0  242.0   \n",
        "3  0.03237   0.0   2.18   0.0  0.458  6.998  45.8  6.0622  3.0  222.0   \n",
        "4  0.06905   0.0   2.18   0.0  0.458  7.147  54.2  6.0622  3.0  222.0   \n",
        "\n",
        "   PTRATIO       B  LSTAT  \n",
        "0     15.3  396.90   4.98  \n",
        "1     17.8  396.90   9.14  \n",
        "2     17.8  392.83   4.03  \n",
        "3     18.7  394.63   2.94  \n",
        "4     18.7  396.90   5.33  \n"
       ]
      }
     ],
     "prompt_number": 9
    },
    {
     "cell_type": "code",
     "collapsed": false,
     "input": [
      "print(boston.target.shape)"
     ],
     "language": "python",
     "metadata": {},
     "outputs": [
      {
       "output_type": "stream",
       "stream": "stdout",
       "text": [
        "(506,)\n"
       ]
      }
     ],
     "prompt_number": 10
    },
    {
     "cell_type": "code",
     "collapsed": false,
     "input": [
      "bos['PRICE'] = boston.target\n",
      "print(bos['PRICE'].head())"
     ],
     "language": "python",
     "metadata": {},
     "outputs": [
      {
       "output_type": "stream",
       "stream": "stdout",
       "text": [
        "0    24.0\n",
        "1    21.6\n",
        "2    34.7\n",
        "3    33.4\n",
        "4    36.2\n",
        "Name: PRICE, dtype: float64\n"
       ]
      }
     ],
     "prompt_number": 11
    },
    {
     "cell_type": "code",
     "collapsed": false,
     "input": [
      "print(bos.describe())"
     ],
     "language": "python",
     "metadata": {},
     "outputs": [
      {
       "output_type": "stream",
       "stream": "stdout",
       "text": [
        "             CRIM          ZN       INDUS        CHAS         NOX          RM  \\\n",
        "count  506.000000  506.000000  506.000000  506.000000  506.000000  506.000000   \n",
        "mean     3.593761   11.363636   11.136779    0.069170    0.554695    6.284634   \n",
        "std      8.596783   23.322453    6.860353    0.253994    0.115878    0.702617   \n",
        "min      0.006320    0.000000    0.460000    0.000000    0.385000    3.561000   \n",
        "25%      0.082045    0.000000    5.190000    0.000000    0.449000    5.885500   \n",
        "50%      0.256510    0.000000    9.690000    0.000000    0.538000    6.208500   \n",
        "75%      3.647423   12.500000   18.100000    0.000000    0.624000    6.623500   \n",
        "max     88.976200  100.000000   27.740000    1.000000    0.871000    8.780000   \n",
        "\n",
        "              AGE         DIS         RAD         TAX     PTRATIO           B  \\\n",
        "count  506.000000  506.000000  506.000000  506.000000  506.000000  506.000000   \n",
        "mean    68.574901    3.795043    9.549407  408.237154   18.455534  356.674032   \n",
        "std     28.148861    2.105710    8.707259  168.537116    2.164946   91.294864   \n",
        "min      2.900000    1.129600    1.000000  187.000000   12.600000    0.320000   \n",
        "25%     45.025000    2.100175    4.000000  279.000000   17.400000  375.377500   \n",
        "50%     77.500000    3.207450    5.000000  330.000000   19.050000  391.440000   \n",
        "75%     94.075000    5.188425   24.000000  666.000000   20.200000  396.225000   \n",
        "max    100.000000   12.126500   24.000000  711.000000   22.000000  396.900000   \n",
        "\n",
        "            LSTAT       PRICE  \n",
        "count  506.000000  506.000000  \n",
        "mean    12.653063   22.532806  \n",
        "std      7.141062    9.197104  \n",
        "min      1.730000    5.000000  \n",
        "25%      6.950000   17.025000  \n",
        "50%     11.360000   21.200000  \n",
        "75%     16.955000   25.000000  \n",
        "max     37.970000   50.000000  \n"
       ]
      }
     ],
     "prompt_number": 16
    },
    {
     "cell_type": "code",
     "collapsed": false,
     "input": [
      "X = bos.drop('PRICE', axis = 1)\n",
      "Y = bos['PRICE']"
     ],
     "language": "python",
     "metadata": {},
     "outputs": [],
     "prompt_number": 13
    },
    {
     "cell_type": "code",
     "collapsed": false,
     "input": [
      "from sklearn.model_selection import train_test_split"
     ],
     "language": "python",
     "metadata": {},
     "outputs": [],
     "prompt_number": 14
    },
    {
     "cell_type": "code",
     "collapsed": false,
     "input": [
      "X_train, X_test, Y_train, Y_test = train_test_split(X, Y, test_size = 0.33, random_state = 5)\n",
      "print(X_train.shape)\n",
      "print(X_test.shape)\n",
      "print(Y_train.shape)\n",
      "print(Y_test.shape)"
     ],
     "language": "python",
     "metadata": {},
     "outputs": [
      {
       "output_type": "stream",
       "stream": "stdout",
       "text": [
        "(339, 13)\n",
        "(167, 13)\n",
        "(339,)\n",
        "(167,)\n"
       ]
      }
     ],
     "prompt_number": 15
    },
    {
     "cell_type": "code",
     "collapsed": false,
     "input": [
      "X_train, X_test, Y_train, Y_test = train_test_split(X, Y, test_size = 0.33, random_state = 5)\n",
      "print(X_train.shape)\n",
      "print(X_test.shape)\n",
      "print(Y_train.shape)\n",
      "print(Y_test.shape)"
     ],
     "language": "python",
     "metadata": {},
     "outputs": [
      {
       "output_type": "stream",
       "stream": "stdout",
       "text": [
        "(339, 13)\n",
        "(167, 13)\n",
        "(339,)\n",
        "(167,)\n"
       ]
      }
     ],
     "prompt_number": 16
    },
    {
     "cell_type": "code",
     "collapsed": false,
     "input": [
      "X_test.head()\n"
     ],
     "language": "python",
     "metadata": {},
     "outputs": [
      {
       "html": [
        "<div style=\"max-width:1500px;overflow:auto;\">\n",
        "<table border=\"1\" class=\"dataframe\">\n",
        "  <thead>\n",
        "    <tr style=\"text-align: right;\">\n",
        "      <th></th>\n",
        "      <th>CRIM</th>\n",
        "      <th>ZN</th>\n",
        "      <th>INDUS</th>\n",
        "      <th>CHAS</th>\n",
        "      <th>NOX</th>\n",
        "      <th>RM</th>\n",
        "      <th>AGE</th>\n",
        "      <th>DIS</th>\n",
        "      <th>RAD</th>\n",
        "      <th>TAX</th>\n",
        "      <th>PTRATIO</th>\n",
        "      <th>B</th>\n",
        "      <th>LSTAT</th>\n",
        "    </tr>\n",
        "  </thead>\n",
        "  <tbody>\n",
        "    <tr>\n",
        "      <th>226</th>\n",
        "      <td>0.38214</td>\n",
        "      <td>0.0</td>\n",
        "      <td>6.20</td>\n",
        "      <td>0.0</td>\n",
        "      <td>0.504</td>\n",
        "      <td>8.040</td>\n",
        "      <td>86.5</td>\n",
        "      <td>3.2157</td>\n",
        "      <td>8.0</td>\n",
        "      <td>307.0</td>\n",
        "      <td>17.4</td>\n",
        "      <td>387.38</td>\n",
        "      <td>3.13</td>\n",
        "    </tr>\n",
        "    <tr>\n",
        "      <th>292</th>\n",
        "      <td>0.03615</td>\n",
        "      <td>80.0</td>\n",
        "      <td>4.95</td>\n",
        "      <td>0.0</td>\n",
        "      <td>0.411</td>\n",
        "      <td>6.630</td>\n",
        "      <td>23.4</td>\n",
        "      <td>5.1167</td>\n",
        "      <td>4.0</td>\n",
        "      <td>245.0</td>\n",
        "      <td>19.2</td>\n",
        "      <td>396.90</td>\n",
        "      <td>4.70</td>\n",
        "    </tr>\n",
        "    <tr>\n",
        "      <th>90</th>\n",
        "      <td>0.04684</td>\n",
        "      <td>0.0</td>\n",
        "      <td>3.41</td>\n",
        "      <td>0.0</td>\n",
        "      <td>0.489</td>\n",
        "      <td>6.417</td>\n",
        "      <td>66.1</td>\n",
        "      <td>3.0923</td>\n",
        "      <td>2.0</td>\n",
        "      <td>270.0</td>\n",
        "      <td>17.8</td>\n",
        "      <td>392.18</td>\n",
        "      <td>8.81</td>\n",
        "    </tr>\n",
        "    <tr>\n",
        "      <th>373</th>\n",
        "      <td>11.10810</td>\n",
        "      <td>0.0</td>\n",
        "      <td>18.10</td>\n",
        "      <td>0.0</td>\n",
        "      <td>0.668</td>\n",
        "      <td>4.906</td>\n",
        "      <td>100.0</td>\n",
        "      <td>1.1742</td>\n",
        "      <td>24.0</td>\n",
        "      <td>666.0</td>\n",
        "      <td>20.2</td>\n",
        "      <td>396.90</td>\n",
        "      <td>34.77</td>\n",
        "    </tr>\n",
        "    <tr>\n",
        "      <th>273</th>\n",
        "      <td>0.22188</td>\n",
        "      <td>20.0</td>\n",
        "      <td>6.96</td>\n",
        "      <td>1.0</td>\n",
        "      <td>0.464</td>\n",
        "      <td>7.691</td>\n",
        "      <td>51.8</td>\n",
        "      <td>4.3665</td>\n",
        "      <td>3.0</td>\n",
        "      <td>223.0</td>\n",
        "      <td>18.6</td>\n",
        "      <td>390.77</td>\n",
        "      <td>6.58</td>\n",
        "    </tr>\n",
        "  </tbody>\n",
        "</table>\n",
        "</div>"
       ],
       "metadata": {},
       "output_type": "pyout",
       "prompt_number": 19,
       "text": [
        "         CRIM    ZN  INDUS  CHAS    NOX     RM    AGE     DIS   RAD    TAX  \\\n",
        "226   0.38214   0.0   6.20   0.0  0.504  8.040   86.5  3.2157   8.0  307.0   \n",
        "292   0.03615  80.0   4.95   0.0  0.411  6.630   23.4  5.1167   4.0  245.0   \n",
        "90    0.04684   0.0   3.41   0.0  0.489  6.417   66.1  3.0923   2.0  270.0   \n",
        "373  11.10810   0.0  18.10   0.0  0.668  4.906  100.0  1.1742  24.0  666.0   \n",
        "273   0.22188  20.0   6.96   1.0  0.464  7.691   51.8  4.3665   3.0  223.0   \n",
        "\n",
        "     PTRATIO       B  LSTAT  \n",
        "226     17.4  387.38   3.13  \n",
        "292     19.2  396.90   4.70  \n",
        "90      17.8  392.18   8.81  \n",
        "373     20.2  396.90  34.77  \n",
        "273     18.6  390.77   6.58  "
       ]
      }
     ],
     "prompt_number": 19
    },
    {
     "cell_type": "code",
     "collapsed": false,
     "input": [
      "Y_test.head()"
     ],
     "language": "python",
     "metadata": {},
     "outputs": [
      {
       "metadata": {},
       "output_type": "pyout",
       "prompt_number": 20,
       "text": [
        "226    37.6\n",
        "292    27.9\n",
        "90     22.6\n",
        "373    13.8\n",
        "273    35.2\n",
        "Name: PRICE, dtype: float64"
       ]
      }
     ],
     "prompt_number": 20
    },
    {
     "cell_type": "code",
     "collapsed": false,
     "input": [
      "from sklearn.linear_model import LinearRegression\n",
      "\n",
      "lm = LinearRegression()\n",
      "lm.fit(X_train, Y_train)\n",
      "\n",
      "Y_pred = lm.predict(X_test)\n",
      "\n",
      "plt.scatter(Y_test, Y_pred,color='blue')\n",
      "\n",
      "plt.xlabel(\"Actual Prices\")\n",
      "plt.ylabel(\"Predicted prices\")\n",
      "plt.title(\"Prices vs Predicted prices\")"
     ],
     "language": "python",
     "metadata": {},
     "outputs": [
      {
       "metadata": {},
       "output_type": "pyout",
       "prompt_number": 28,
       "text": [
        "<matplotlib.text.Text at 0x7fdd2e1791d0>"
       ]
      },
      {
       "metadata": {},
       "output_type": "display_data",
       "png": "[encoded data removed]",
       "text": [
        "<matplotlib.figure.Figure at 0x7fdd2e0dc3d0>"
       ]
      }
     ],
     "prompt_number": 28
    },
    {
     "cell_type": "code",
     "collapsed": false,
     "input": [
      "#You can notice that there is some error in  the prediction as the housing prices increase."
     ],
     "language": "python",
     "metadata": {},
     "outputs": [],
     "prompt_number": 29
    },
    {
     "cell_type": "code",
     "collapsed": false,
     "input": [
      "mse = sklearn.metrics.mean_squared_error(Y_test, Y_pred)\n",
      "print(mse)"
     ],
     "language": "python",
     "metadata": {},
     "outputs": [
      {
       "output_type": "stream",
       "stream": "stdout",
       "text": [
        "28.5413672756\n"
       ]
      }
     ],
     "prompt_number": 30
    },
    {
     "cell_type": "code",
     "collapsed": false,
     "input": [
      "#Minimise MSE for more accuracy"
     ],
     "language": "python",
     "metadata": {},
     "outputs": [],
     "prompt_number": null
    }
   ],
   "metadata": {}
  }
 ]
}